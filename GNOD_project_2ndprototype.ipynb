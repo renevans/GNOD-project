{
 "cells": [
  {
   "cell_type": "code",
   "execution_count": 98,
   "id": "3cdc20d3",
   "metadata": {},
   "outputs": [],
   "source": [
    "# %%writefile test.py\n",
    "\n",
    "import numpy as np\n",
    "import pandas as pd\n",
    "# import matplotlib.pyplot as plt\n",
    "from sklearn import cluster, datasets\n",
    "from sklearn.preprocessing import StandardScaler\n",
    "# from matplotlib.lines import Line2D\n",
    "import pickle  \n",
    "import time\n",
    "from sklearn.cluster import KMeans\n",
    "\n",
    "import spotipy\n",
    "from spotipy.oauth2 import SpotifyClientCredentials\n",
    "import random\n",
    "from bs4 import BeautifulSoup\n",
    "import requests\n",
    "import re\n"
   ]
  },
  {
   "cell_type": "code",
   "execution_count": 6,
   "id": "a719c8ac",
   "metadata": {},
   "outputs": [],
   "source": [
    "# Spotify credentials:\n",
    "\n",
    "input_file = open(\"/Users/renev/OneDrive/Desktop/input.txt\",\"r\")\n",
    "string = input_file.read()\n",
    "secrets_dict={}\n",
    "for line in string.split('\\n'):\n",
    "    if len(line) > 0:\n",
    "        secrets_dict[line.split(':')[0]]=line.split(':')[1]\n",
    "auth_manager = SpotifyClientCredentials(client_id = secrets_dict['client_id'], \n",
    "                                        client_secret = secrets_dict['client_secret'])\n",
    "sp = spotipy.Spotify(auth_manager=auth_manager)"
   ]
  },
  {
   "cell_type": "code",
   "execution_count": 7,
   "id": "75de60e3",
   "metadata": {},
   "outputs": [],
   "source": [
    "# Load the model\n",
    "filename = 'song_model.sav'\n",
    "kmeans = pickle.load(open(filename, 'rb'))"
   ]
  },
  {
   "cell_type": "code",
   "execution_count": 8,
   "id": "7126e200",
   "metadata": {},
   "outputs": [],
   "source": [
    "#Load the scaler   \n",
    "scaler = pickle.load(open('scaler.pkl', 'rb'))\n"
   ]
  },
  {
   "cell_type": "code",
   "execution_count": 9,
   "id": "5dbf91ac",
   "metadata": {},
   "outputs": [],
   "source": [
    "# Load the database of songs\n",
    "database_songs = pd.read_csv('database_songs.csv')"
   ]
  },
  {
   "cell_type": "code",
   "execution_count": 10,
   "id": "f2d93c06",
   "metadata": {},
   "outputs": [
    {
     "data": {
      "text/html": [
       "<div>\n",
       "<style scoped>\n",
       "    .dataframe tbody tr th:only-of-type {\n",
       "        vertical-align: middle;\n",
       "    }\n",
       "\n",
       "    .dataframe tbody tr th {\n",
       "        vertical-align: top;\n",
       "    }\n",
       "\n",
       "    .dataframe thead th {\n",
       "        text-align: right;\n",
       "    }\n",
       "</style>\n",
       "<table border=\"1\" class=\"dataframe\">\n",
       "  <thead>\n",
       "    <tr style=\"text-align: right;\">\n",
       "      <th></th>\n",
       "      <th>Unnamed: 0</th>\n",
       "      <th>id</th>\n",
       "      <th>name</th>\n",
       "      <th>album</th>\n",
       "      <th>artist</th>\n",
       "      <th>danceability</th>\n",
       "      <th>energy</th>\n",
       "      <th>loudness</th>\n",
       "      <th>speechiness</th>\n",
       "      <th>acousticness</th>\n",
       "      <th>instrumentalness</th>\n",
       "      <th>liveness</th>\n",
       "      <th>valence</th>\n",
       "      <th>tempo</th>\n",
       "      <th>duration_ms</th>\n",
       "      <th>clusters</th>\n",
       "      <th>url</th>\n",
       "    </tr>\n",
       "  </thead>\n",
       "  <tbody>\n",
       "    <tr>\n",
       "      <th>0</th>\n",
       "      <td>0</td>\n",
       "      <td>000RW47rhEkSqjgTrZx7YX</td>\n",
       "      <td>Lance Individual</td>\n",
       "      <td>Tudo Em Paz</td>\n",
       "      <td>Jorge &amp; Mateus</td>\n",
       "      <td>0.676500</td>\n",
       "      <td>-0.068031</td>\n",
       "      <td>0.546974</td>\n",
       "      <td>-0.555159</td>\n",
       "      <td>0.096825</td>\n",
       "      <td>-0.277117</td>\n",
       "      <td>-0.728997</td>\n",
       "      <td>1.995026</td>\n",
       "      <td>-0.140359</td>\n",
       "      <td>-0.603093</td>\n",
       "      <td>1</td>\n",
       "      <td>https://open.spotify.com/track/000RW47rhEkSqjg...</td>\n",
       "    </tr>\n",
       "    <tr>\n",
       "      <th>1</th>\n",
       "      <td>1</td>\n",
       "      <td>000xQL6tZNLJzIrtIgxqSl</td>\n",
       "      <td>Still Got Time (feat. PARTYNEXTDOOR)</td>\n",
       "      <td>Still Got Time (feat. PARTYNEXTDOOR)</td>\n",
       "      <td>ZAYN</td>\n",
       "      <td>0.650606</td>\n",
       "      <td>-0.032167</td>\n",
       "      <td>0.400269</td>\n",
       "      <td>-0.444424</td>\n",
       "      <td>-0.550907</td>\n",
       "      <td>-0.277117</td>\n",
       "      <td>-0.657884</td>\n",
       "      <td>0.109382</td>\n",
       "      <td>-0.015593</td>\n",
       "      <td>-0.316678</td>\n",
       "      <td>1</td>\n",
       "      <td>https://open.spotify.com/track/000xQL6tZNLJzIr...</td>\n",
       "    </tr>\n",
       "    <tr>\n",
       "      <th>2</th>\n",
       "      <td>2</td>\n",
       "      <td>000xYdQfIZ4pDmBGzQalKU</td>\n",
       "      <td>Eu, Você, O Mar e Ela</td>\n",
       "      <td>1977</td>\n",
       "      <td>Luan Santana</td>\n",
       "      <td>-0.896561</td>\n",
       "      <td>0.869567</td>\n",
       "      <td>0.187800</td>\n",
       "      <td>-0.648005</td>\n",
       "      <td>1.461431</td>\n",
       "      <td>-0.274067</td>\n",
       "      <td>1.976087</td>\n",
       "      <td>0.656133</td>\n",
       "      <td>1.561659</td>\n",
       "      <td>-0.333030</td>\n",
       "      <td>3</td>\n",
       "      <td>https://open.spotify.com/track/000xYdQfIZ4pDmB...</td>\n",
       "    </tr>\n",
       "    <tr>\n",
       "      <th>3</th>\n",
       "      <td>3</td>\n",
       "      <td>0010ypQ2nPZdksx1kEjt66</td>\n",
       "      <td>As Nieko Nezinau</td>\n",
       "      <td>As Nieko Nezinau</td>\n",
       "      <td>Kamaniu Silelis</td>\n",
       "      <td>0.359299</td>\n",
       "      <td>-2.086685</td>\n",
       "      <td>-1.810124</td>\n",
       "      <td>-0.645450</td>\n",
       "      <td>2.207415</td>\n",
       "      <td>-0.116441</td>\n",
       "      <td>-0.797321</td>\n",
       "      <td>-1.642803</td>\n",
       "      <td>-0.086238</td>\n",
       "      <td>0.134967</td>\n",
       "      <td>6</td>\n",
       "      <td>https://open.spotify.com/track/0010ypQ2nPZdksx...</td>\n",
       "    </tr>\n",
       "    <tr>\n",
       "      <th>4</th>\n",
       "      <td>4</td>\n",
       "      <td>00115zIia5fhpbtl4c58RZ</td>\n",
       "      <td>Pokoj</td>\n",
       "      <td>Pokoj</td>\n",
       "      <td>Lenka Piešová</td>\n",
       "      <td>-1.136081</td>\n",
       "      <td>-1.456496</td>\n",
       "      <td>0.010147</td>\n",
       "      <td>-0.694003</td>\n",
       "      <td>-0.507240</td>\n",
       "      <td>-0.276759</td>\n",
       "      <td>-0.603504</td>\n",
       "      <td>-1.561006</td>\n",
       "      <td>-0.012407</td>\n",
       "      <td>-0.334448</td>\n",
       "      <td>4</td>\n",
       "      <td>https://open.spotify.com/track/00115zIia5fhpbt...</td>\n",
       "    </tr>\n",
       "    <tr>\n",
       "      <th>...</th>\n",
       "      <td>...</td>\n",
       "      <td>...</td>\n",
       "      <td>...</td>\n",
       "      <td>...</td>\n",
       "      <td>...</td>\n",
       "      <td>...</td>\n",
       "      <td>...</td>\n",
       "      <td>...</td>\n",
       "      <td>...</td>\n",
       "      <td>...</td>\n",
       "      <td>...</td>\n",
       "      <td>...</td>\n",
       "      <td>...</td>\n",
       "      <td>...</td>\n",
       "      <td>...</td>\n",
       "      <td>...</td>\n",
       "      <td>...</td>\n",
       "    </tr>\n",
       "    <tr>\n",
       "      <th>207561</th>\n",
       "      <td>207561</td>\n",
       "      <td>7zzSBaZl2B3gvnln8h5xef</td>\n",
       "      <td>Три белых коня</td>\n",
       "      <td>Три белых коня</td>\n",
       "      <td>Ivanushki International</td>\n",
       "      <td>0.171567</td>\n",
       "      <td>1.771301</td>\n",
       "      <td>1.009110</td>\n",
       "      <td>-0.060261</td>\n",
       "      <td>-0.840931</td>\n",
       "      <td>-0.277117</td>\n",
       "      <td>1.097632</td>\n",
       "      <td>1.650616</td>\n",
       "      <td>1.002033</td>\n",
       "      <td>-0.321875</td>\n",
       "      <td>1</td>\n",
       "      <td>https://open.spotify.com/track/7zzSBaZl2B3gvnl...</td>\n",
       "    </tr>\n",
       "    <tr>\n",
       "      <th>207562</th>\n",
       "      <td>207562</td>\n",
       "      <td>7zzU5vd1GrHpNjwq3HpIe3</td>\n",
       "      <td>Le petit Nicolas</td>\n",
       "      <td>R.I.P.R.O 4</td>\n",
       "      <td>Lacrim</td>\n",
       "      <td>0.268670</td>\n",
       "      <td>0.562158</td>\n",
       "      <td>-0.352598</td>\n",
       "      <td>3.253255</td>\n",
       "      <td>-0.691007</td>\n",
       "      <td>-0.277117</td>\n",
       "      <td>-0.895625</td>\n",
       "      <td>-0.644014</td>\n",
       "      <td>0.711333</td>\n",
       "      <td>-0.088138</td>\n",
       "      <td>2</td>\n",
       "      <td>https://open.spotify.com/track/7zzU5vd1GrHpNjw...</td>\n",
       "    </tr>\n",
       "    <tr>\n",
       "      <th>207563</th>\n",
       "      <td>207563</td>\n",
       "      <td>7zzbnhCpuuHOCrhBGvgwpp</td>\n",
       "      <td>Wouldn’t Change A Thing</td>\n",
       "      <td>Need Of You</td>\n",
       "      <td>Lawrence Hancock</td>\n",
       "      <td>-0.961296</td>\n",
       "      <td>-0.590627</td>\n",
       "      <td>0.029787</td>\n",
       "      <td>-0.511717</td>\n",
       "      <td>-1.020732</td>\n",
       "      <td>-0.276977</td>\n",
       "      <td>-0.436179</td>\n",
       "      <td>-1.979033</td>\n",
       "      <td>-1.518839</td>\n",
       "      <td>-0.358880</td>\n",
       "      <td>4</td>\n",
       "      <td>https://open.spotify.com/track/7zzbnhCpuuHOCrh...</td>\n",
       "    </tr>\n",
       "    <tr>\n",
       "      <th>207564</th>\n",
       "      <td>207564</td>\n",
       "      <td>7zzhRAobAnNjarw2FAWt65</td>\n",
       "      <td>ארבעה אחים - פסח</td>\n",
       "      <td>שירי החגים הגדולים בכל הזמנים</td>\n",
       "      <td>Various Artists</td>\n",
       "      <td>0.022676</td>\n",
       "      <td>-1.482114</td>\n",
       "      <td>-0.966199</td>\n",
       "      <td>-0.673560</td>\n",
       "      <td>2.087330</td>\n",
       "      <td>-0.277117</td>\n",
       "      <td>-0.533785</td>\n",
       "      <td>1.607565</td>\n",
       "      <td>0.144250</td>\n",
       "      <td>-1.170296</td>\n",
       "      <td>6</td>\n",
       "      <td>https://open.spotify.com/track/7zzhRAobAnNjarw...</td>\n",
       "    </tr>\n",
       "    <tr>\n",
       "      <th>207565</th>\n",
       "      <td>207565</td>\n",
       "      <td>7zzhknA0A39TH81meuX7WA</td>\n",
       "      <td>C'est pas des LOL</td>\n",
       "      <td>Rien 100 Rien (Réédition)</td>\n",
       "      <td>Jul</td>\n",
       "      <td>1.887046</td>\n",
       "      <td>0.341848</td>\n",
       "      <td>0.252374</td>\n",
       "      <td>-0.546641</td>\n",
       "      <td>-0.347126</td>\n",
       "      <td>-0.277117</td>\n",
       "      <td>-0.596532</td>\n",
       "      <td>1.667837</td>\n",
       "      <td>0.370922</td>\n",
       "      <td>0.767577</td>\n",
       "      <td>1</td>\n",
       "      <td>https://open.spotify.com/track/7zzhknA0A39TH81...</td>\n",
       "    </tr>\n",
       "  </tbody>\n",
       "</table>\n",
       "<p>207566 rows × 17 columns</p>\n",
       "</div>"
      ],
      "text/plain": [
       "        Unnamed: 0                      id  \\\n",
       "0                0  000RW47rhEkSqjgTrZx7YX   \n",
       "1                1  000xQL6tZNLJzIrtIgxqSl   \n",
       "2                2  000xYdQfIZ4pDmBGzQalKU   \n",
       "3                3  0010ypQ2nPZdksx1kEjt66   \n",
       "4                4  00115zIia5fhpbtl4c58RZ   \n",
       "...            ...                     ...   \n",
       "207561      207561  7zzSBaZl2B3gvnln8h5xef   \n",
       "207562      207562  7zzU5vd1GrHpNjwq3HpIe3   \n",
       "207563      207563  7zzbnhCpuuHOCrhBGvgwpp   \n",
       "207564      207564  7zzhRAobAnNjarw2FAWt65   \n",
       "207565      207565  7zzhknA0A39TH81meuX7WA   \n",
       "\n",
       "                                        name  \\\n",
       "0                           Lance Individual   \n",
       "1       Still Got Time (feat. PARTYNEXTDOOR)   \n",
       "2                      Eu, Você, O Mar e Ela   \n",
       "3                           As Nieko Nezinau   \n",
       "4                                      Pokoj   \n",
       "...                                      ...   \n",
       "207561                        Три белых коня   \n",
       "207562                      Le petit Nicolas   \n",
       "207563               Wouldn’t Change A Thing   \n",
       "207564                      ארבעה אחים - פסח   \n",
       "207565                     C'est pas des LOL   \n",
       "\n",
       "                                       album                   artist  \\\n",
       "0                                Tudo Em Paz           Jorge & Mateus   \n",
       "1       Still Got Time (feat. PARTYNEXTDOOR)                     ZAYN   \n",
       "2                                       1977             Luan Santana   \n",
       "3                           As Nieko Nezinau          Kamaniu Silelis   \n",
       "4                                      Pokoj            Lenka Piešová   \n",
       "...                                      ...                      ...   \n",
       "207561                        Три белых коня  Ivanushki International   \n",
       "207562                           R.I.P.R.O 4                   Lacrim   \n",
       "207563                           Need Of You         Lawrence Hancock   \n",
       "207564         שירי החגים הגדולים בכל הזמנים          Various Artists   \n",
       "207565             Rien 100 Rien (Réédition)                      Jul   \n",
       "\n",
       "        danceability    energy  loudness  speechiness  acousticness  \\\n",
       "0           0.676500 -0.068031  0.546974    -0.555159      0.096825   \n",
       "1           0.650606 -0.032167  0.400269    -0.444424     -0.550907   \n",
       "2          -0.896561  0.869567  0.187800    -0.648005      1.461431   \n",
       "3           0.359299 -2.086685 -1.810124    -0.645450      2.207415   \n",
       "4          -1.136081 -1.456496  0.010147    -0.694003     -0.507240   \n",
       "...              ...       ...       ...          ...           ...   \n",
       "207561      0.171567  1.771301  1.009110    -0.060261     -0.840931   \n",
       "207562      0.268670  0.562158 -0.352598     3.253255     -0.691007   \n",
       "207563     -0.961296 -0.590627  0.029787    -0.511717     -1.020732   \n",
       "207564      0.022676 -1.482114 -0.966199    -0.673560      2.087330   \n",
       "207565      1.887046  0.341848  0.252374    -0.546641     -0.347126   \n",
       "\n",
       "        instrumentalness  liveness   valence     tempo  duration_ms  clusters  \\\n",
       "0              -0.277117 -0.728997  1.995026 -0.140359    -0.603093         1   \n",
       "1              -0.277117 -0.657884  0.109382 -0.015593    -0.316678         1   \n",
       "2              -0.274067  1.976087  0.656133  1.561659    -0.333030         3   \n",
       "3              -0.116441 -0.797321 -1.642803 -0.086238     0.134967         6   \n",
       "4              -0.276759 -0.603504 -1.561006 -0.012407    -0.334448         4   \n",
       "...                  ...       ...       ...       ...          ...       ...   \n",
       "207561         -0.277117  1.097632  1.650616  1.002033    -0.321875         1   \n",
       "207562         -0.277117 -0.895625 -0.644014  0.711333    -0.088138         2   \n",
       "207563         -0.276977 -0.436179 -1.979033 -1.518839    -0.358880         4   \n",
       "207564         -0.277117 -0.533785  1.607565  0.144250    -1.170296         6   \n",
       "207565         -0.277117 -0.596532  1.667837  0.370922     0.767577         1   \n",
       "\n",
       "                                                      url  \n",
       "0       https://open.spotify.com/track/000RW47rhEkSqjg...  \n",
       "1       https://open.spotify.com/track/000xQL6tZNLJzIr...  \n",
       "2       https://open.spotify.com/track/000xYdQfIZ4pDmB...  \n",
       "3       https://open.spotify.com/track/0010ypQ2nPZdksx...  \n",
       "4       https://open.spotify.com/track/00115zIia5fhpbt...  \n",
       "...                                                   ...  \n",
       "207561  https://open.spotify.com/track/7zzSBaZl2B3gvnl...  \n",
       "207562  https://open.spotify.com/track/7zzU5vd1GrHpNjw...  \n",
       "207563  https://open.spotify.com/track/7zzbnhCpuuHOCrh...  \n",
       "207564  https://open.spotify.com/track/7zzhRAobAnNjarw...  \n",
       "207565  https://open.spotify.com/track/7zzhknA0A39TH81...  \n",
       "\n",
       "[207566 rows x 17 columns]"
      ]
     },
     "execution_count": 10,
     "metadata": {},
     "output_type": "execute_result"
    }
   ],
   "source": [
    "database_songs"
   ]
  },
  {
   "cell_type": "code",
   "execution_count": 11,
   "id": "5447036b",
   "metadata": {},
   "outputs": [
    {
     "data": {
      "text/plain": [
       "1    53012\n",
       "4    44447\n",
       "6    31312\n",
       "2    28466\n",
       "7    28345\n",
       "3    11079\n",
       "8     7693\n",
       "0     3152\n",
       "5       60\n",
       "Name: clusters, dtype: int64"
      ]
     },
     "execution_count": 11,
     "metadata": {},
     "output_type": "execute_result"
    }
   ],
   "source": [
    "database_songs['clusters'].value_counts()"
   ]
  },
  {
   "cell_type": "code",
   "execution_count": 99,
   "id": "b321c4b0",
   "metadata": {},
   "outputs": [
    {
     "name": "stdout",
     "output_type": "stream",
     "text": [
      "Please enter a Spotify track url: https://open.spotify.com/track/0eTqauier0C0bigAwpmUWT\n"
     ]
    }
   ],
   "source": [
    "# User input → based on Spotify song url to avoid mis-typing, etc.\n",
    "\n",
    "user_input = input(\"Please enter a Spotify track url: \")\n"
   ]
  },
  {
   "cell_type": "code",
   "execution_count": 100,
   "id": "77ace5a2",
   "metadata": {},
   "outputs": [],
   "source": [
    "track_id = user_input[31:53]"
   ]
  },
  {
   "cell_type": "code",
   "execution_count": 101,
   "id": "4f5d5cb6",
   "metadata": {},
   "outputs": [
    {
     "data": {
      "text/plain": [
       "'0eTqauier0C0bigAwpmUWT'"
      ]
     },
     "execution_count": 101,
     "metadata": {},
     "output_type": "execute_result"
    }
   ],
   "source": [
    "track_id"
   ]
  },
  {
   "cell_type": "markdown",
   "id": "4d9f1acd",
   "metadata": {},
   "source": [
    "Collect the audio features from the Spotify API. "
   ]
  },
  {
   "cell_type": "code",
   "execution_count": 102,
   "id": "c4e0526f",
   "metadata": {},
   "outputs": [],
   "source": [
    "#     track_info = sp.track(id)\n",
    "#     track_features = sp.audio_features(id)\n",
    "\n",
    "track_info = sp.track(track_id)\n",
    "track_features = sp.audio_features(track_id)\n",
    "    \n",
    "#     Track info\n",
    "name = track_info['name']\n",
    "album= track_info['album']['name']\n",
    "artist= track_info['album']['artists'][0]['name']\n",
    "#     release_date= track_info['album']['release_date']\n",
    "#     length= track_info['duration_ms']\n",
    "#     popularity= track_info['popularity']\n",
    "    \n",
    "#     Track features\n",
    "\n",
    "try: \n",
    "    danceability = track_features[0]['danceability']\n",
    "    energy=track_features[0]['energy']\n",
    "#     key=track_features[0]['key']\n",
    "    loudness= track_features[0]['loudness']\n",
    "#     mode=track_features[0]['mode']\n",
    "    speechiness=track_features[0]['speechiness']\n",
    "    acousticness= track_features[0]['acousticness']\n",
    "    instrumentalness=track_features[0]['instrumentalness']\n",
    "    liveness=track_features[0]['liveness']\n",
    "    valence= track_features[0]['valence']\n",
    "    tempo=track_features[0]['tempo']\n",
    "    id= track_features[0]['id']\n",
    "    duration_ms= track_features[0]['duration_ms']\n",
    "#     time_signature= track_features[0]['time_signature']\n",
    "    track_data = [id, name, album, artist, danceability,energy,loudness,speechiness, acousticness, instrumentalness,\n",
    "                  liveness, valence, tempo, duration_ms]\n",
    "except:\n",
    "    \n",
    "    track_data = [id,name, album, artist, 'null','null','null','null', 'null', 'null',\n",
    "                  'null', 'null','null', 'null']"
   ]
  },
  {
   "cell_type": "code",
   "execution_count": 103,
   "id": "7d3d7ff6",
   "metadata": {},
   "outputs": [
    {
     "data": {
      "text/plain": [
       "['0eTqauier0C0bigAwpmUWT',\n",
       " 'Does Your Mother Know',\n",
       " 'Abba Live',\n",
       " 'ABBA',\n",
       " 0.449,\n",
       " 0.982,\n",
       " -6.504,\n",
       " 0.0757,\n",
       " 0.0441,\n",
       " 0.000256,\n",
       " 0.987,\n",
       " 0.607,\n",
       " 144.99,\n",
       " 249733]"
      ]
     },
     "execution_count": 103,
     "metadata": {},
     "output_type": "execute_result"
    }
   ],
   "source": [
    "track_data"
   ]
  },
  {
   "cell_type": "code",
   "execution_count": 104,
   "id": "4885c7b5",
   "metadata": {},
   "outputs": [],
   "source": [
    "track_data = pd.DataFrame(track_data).T.values.tolist() #Transpose dataframe to list"
   ]
  },
  {
   "cell_type": "code",
   "execution_count": 105,
   "id": "b3910e2d",
   "metadata": {},
   "outputs": [],
   "source": [
    "features = pd.DataFrame(track_data, columns = ['id','name', 'album', 'artist', 'danceability','energy','loudness','speechiness',\n",
    "                                               'acousticness','instrumentalness','liveness','valence', 'tempo', 'duration_ms'\n",
    "                                               ])"
   ]
  },
  {
   "cell_type": "code",
   "execution_count": 106,
   "id": "c0e4c738",
   "metadata": {},
   "outputs": [
    {
     "data": {
      "text/html": [
       "<div>\n",
       "<style scoped>\n",
       "    .dataframe tbody tr th:only-of-type {\n",
       "        vertical-align: middle;\n",
       "    }\n",
       "\n",
       "    .dataframe tbody tr th {\n",
       "        vertical-align: top;\n",
       "    }\n",
       "\n",
       "    .dataframe thead th {\n",
       "        text-align: right;\n",
       "    }\n",
       "</style>\n",
       "<table border=\"1\" class=\"dataframe\">\n",
       "  <thead>\n",
       "    <tr style=\"text-align: right;\">\n",
       "      <th></th>\n",
       "      <th>id</th>\n",
       "      <th>name</th>\n",
       "      <th>album</th>\n",
       "      <th>artist</th>\n",
       "      <th>danceability</th>\n",
       "      <th>energy</th>\n",
       "      <th>loudness</th>\n",
       "      <th>speechiness</th>\n",
       "      <th>acousticness</th>\n",
       "      <th>instrumentalness</th>\n",
       "      <th>liveness</th>\n",
       "      <th>valence</th>\n",
       "      <th>tempo</th>\n",
       "      <th>duration_ms</th>\n",
       "    </tr>\n",
       "  </thead>\n",
       "  <tbody>\n",
       "    <tr>\n",
       "      <th>0</th>\n",
       "      <td>0eTqauier0C0bigAwpmUWT</td>\n",
       "      <td>Does Your Mother Know</td>\n",
       "      <td>Abba Live</td>\n",
       "      <td>ABBA</td>\n",
       "      <td>0.449</td>\n",
       "      <td>0.982</td>\n",
       "      <td>-6.504</td>\n",
       "      <td>0.0757</td>\n",
       "      <td>0.0441</td>\n",
       "      <td>0.000256</td>\n",
       "      <td>0.987</td>\n",
       "      <td>0.607</td>\n",
       "      <td>144.99</td>\n",
       "      <td>249733</td>\n",
       "    </tr>\n",
       "  </tbody>\n",
       "</table>\n",
       "</div>"
      ],
      "text/plain": [
       "                       id                   name      album artist  \\\n",
       "0  0eTqauier0C0bigAwpmUWT  Does Your Mother Know  Abba Live   ABBA   \n",
       "\n",
       "   danceability  energy  loudness  speechiness  acousticness  \\\n",
       "0         0.449   0.982    -6.504       0.0757        0.0441   \n",
       "\n",
       "   instrumentalness  liveness  valence   tempo  duration_ms  \n",
       "0          0.000256     0.987    0.607  144.99       249733  "
      ]
     },
     "execution_count": 106,
     "metadata": {},
     "output_type": "execute_result"
    }
   ],
   "source": [
    "features"
   ]
  },
  {
   "cell_type": "markdown",
   "id": "cf8cf61b",
   "metadata": {},
   "source": [
    "Check against Billboard Hot100"
   ]
  },
  {
   "cell_type": "code",
   "execution_count": 107,
   "id": "0e8436c1",
   "metadata": {},
   "outputs": [],
   "source": [
    "user_input_name = features['name'][0]\n",
    "\n",
    "# select everything before brackets"
   ]
  },
  {
   "cell_type": "code",
   "execution_count": 108,
   "id": "7381b693",
   "metadata": {},
   "outputs": [],
   "source": [
    "user_input_name=re.sub(\" \\(.*?\\)\",\"\",user_input_name)"
   ]
  },
  {
   "cell_type": "code",
   "execution_count": 75,
   "id": "6b4cf74c",
   "metadata": {},
   "outputs": [
    {
     "data": {
      "text/plain": [
       "'Does Your Mother Know'"
      ]
     },
     "execution_count": 75,
     "metadata": {},
     "output_type": "execute_result"
    }
   ],
   "source": [
    "user_input_name"
   ]
  },
  {
   "cell_type": "code",
   "execution_count": 76,
   "id": "d9253ad1",
   "metadata": {},
   "outputs": [],
   "source": [
    "url = \"https://www.billboard.com/charts/hot-100\""
   ]
  },
  {
   "cell_type": "code",
   "execution_count": 77,
   "id": "11d2f763",
   "metadata": {},
   "outputs": [
    {
     "data": {
      "text/plain": [
       "200"
      ]
     },
     "execution_count": 77,
     "metadata": {},
     "output_type": "execute_result"
    }
   ],
   "source": [
    "# 3. download html with a get request\n",
    "response = requests.get(url)\n",
    "response.status_code # 200 status code means OK!"
   ]
  },
  {
   "cell_type": "code",
   "execution_count": 78,
   "id": "9e59e06d",
   "metadata": {},
   "outputs": [],
   "source": [
    "# 4.1. parse html (create the 'soup')\n",
    "soup = BeautifulSoup(response.content, \"html.parser\")"
   ]
  },
  {
   "cell_type": "code",
   "execution_count": 79,
   "id": "3e0a519d",
   "metadata": {},
   "outputs": [],
   "source": [
    "hot_songs = []\n",
    "# artist = []\n",
    "num_iter = len(soup.select('span.chart-element__information span'))\n",
    "\n",
    "for i in range(0,num_iter,7): # start at position 0, iterate through the len of the column, stop at 7\n",
    "    hot_songs.append(soup.select('span.chart-element__information span')[i].get_text())\n",
    "#     artist.append(soup.select('span.chart-element__information span')[i+1].get_text()) # artist is at position 0+1"
   ]
  },
  {
   "cell_type": "code",
   "execution_count": 80,
   "id": "be7d4ed6",
   "metadata": {},
   "outputs": [],
   "source": [
    "hot_songs = pd.DataFrame(hot_songs)\n"
   ]
  },
  {
   "cell_type": "code",
   "execution_count": 109,
   "id": "27101322",
   "metadata": {},
   "outputs": [],
   "source": [
    "# hot_songs[0]=hot_songs[0].str.extract(\" \\(.*?\\)\")\n",
    "\n",
    "hot_songs[0] = hot_songs[0].str.replace(\" \\(.*?\\)\",\"\", regex = True)"
   ]
  },
  {
   "cell_type": "code",
   "execution_count": 82,
   "id": "63f6a056",
   "metadata": {},
   "outputs": [],
   "source": [
    "hot_songs_x = list(hot_songs[0])"
   ]
  },
  {
   "cell_type": "markdown",
   "id": "3181acf1",
   "metadata": {},
   "source": [
    "After that, you want to send the Spotify audio features of the \n",
    "submitted song to the clustering model, which should return a cluster number."
   ]
  },
  {
   "cell_type": "code",
   "execution_count": 83,
   "id": "748c2b43",
   "metadata": {},
   "outputs": [],
   "source": [
    "# Change object to float\n",
    "\n",
    "features['danceability'] = pd.to_numeric(features['danceability'],errors='coerce')\n",
    "features['energy'] = pd.to_numeric(features['energy'],errors='coerce')\n",
    "features['loudness'] = pd.to_numeric(features['loudness'],errors='coerce')\n",
    "features['speechiness'] = pd.to_numeric(features['speechiness'],errors='coerce')\n",
    "features['acousticness'] = pd.to_numeric(features['acousticness'],errors='coerce')\n",
    "features['instrumentalness'] = pd.to_numeric(features['instrumentalness'],errors='coerce')\n",
    "features['liveness'] = pd.to_numeric(features['liveness'],errors='coerce')\n",
    "features['valence'] = pd.to_numeric(features['valence'],errors='coerce')\n",
    "features['tempo'] = pd.to_numeric(features['tempo'],errors='coerce')\n",
    "features['duration_ms'] = pd.to_numeric(features['duration_ms'],errors='coerce')"
   ]
  },
  {
   "cell_type": "code",
   "execution_count": 84,
   "id": "3d12fe6b",
   "metadata": {},
   "outputs": [],
   "source": [
    "audio_features_less = features.drop(['id','name','album','artist'],axis=1) "
   ]
  },
  {
   "cell_type": "code",
   "execution_count": 85,
   "id": "253493fb",
   "metadata": {},
   "outputs": [
    {
     "data": {
      "text/html": [
       "<div>\n",
       "<style scoped>\n",
       "    .dataframe tbody tr th:only-of-type {\n",
       "        vertical-align: middle;\n",
       "    }\n",
       "\n",
       "    .dataframe tbody tr th {\n",
       "        vertical-align: top;\n",
       "    }\n",
       "\n",
       "    .dataframe thead th {\n",
       "        text-align: right;\n",
       "    }\n",
       "</style>\n",
       "<table border=\"1\" class=\"dataframe\">\n",
       "  <thead>\n",
       "    <tr style=\"text-align: right;\">\n",
       "      <th></th>\n",
       "      <th>danceability</th>\n",
       "      <th>energy</th>\n",
       "      <th>loudness</th>\n",
       "      <th>speechiness</th>\n",
       "      <th>acousticness</th>\n",
       "      <th>instrumentalness</th>\n",
       "      <th>liveness</th>\n",
       "      <th>valence</th>\n",
       "      <th>tempo</th>\n",
       "      <th>duration_ms</th>\n",
       "    </tr>\n",
       "  </thead>\n",
       "  <tbody>\n",
       "    <tr>\n",
       "      <th>0</th>\n",
       "      <td>0.449</td>\n",
       "      <td>0.982</td>\n",
       "      <td>-6.504</td>\n",
       "      <td>0.0757</td>\n",
       "      <td>0.0441</td>\n",
       "      <td>0.000256</td>\n",
       "      <td>0.987</td>\n",
       "      <td>0.607</td>\n",
       "      <td>144.99</td>\n",
       "      <td>249733</td>\n",
       "    </tr>\n",
       "  </tbody>\n",
       "</table>\n",
       "</div>"
      ],
      "text/plain": [
       "   danceability  energy  loudness  speechiness  acousticness  \\\n",
       "0         0.449   0.982    -6.504       0.0757        0.0441   \n",
       "\n",
       "   instrumentalness  liveness  valence   tempo  duration_ms  \n",
       "0          0.000256     0.987    0.607  144.99       249733  "
      ]
     },
     "execution_count": 85,
     "metadata": {},
     "output_type": "execute_result"
    }
   ],
   "source": [
    "audio_features_less = pd.DataFrame(audio_features_less, index = [0])\n",
    "audio_features_less"
   ]
  },
  {
   "cell_type": "code",
   "execution_count": 86,
   "id": "ed10c1c9",
   "metadata": {},
   "outputs": [],
   "source": [
    "X_prep_less = scaler.transform(audio_features_less)"
   ]
  },
  {
   "cell_type": "code",
   "execution_count": 87,
   "id": "525d7985",
   "metadata": {},
   "outputs": [
    {
     "data": {
      "text/plain": [
       "array([[-1.28497152,  1.78667107,  0.25892091, -0.3439116 , -0.86713171,\n",
       "        -0.27566857,  5.62934547,  0.4667074 ,  0.82552632,  0.4132059 ]])"
      ]
     },
     "execution_count": 87,
     "metadata": {},
     "output_type": "execute_result"
    }
   ],
   "source": [
    "X_prep_less"
   ]
  },
  {
   "cell_type": "code",
   "execution_count": 88,
   "id": "52b959db",
   "metadata": {},
   "outputs": [
    {
     "name": "stdout",
     "output_type": "stream",
     "text": [
      "May I suggest the following song:\n",
      "name: Batom De Ouro - Ao Vivo\n",
      "artist: Os Barões Da Pisadinha\n",
      "url: https://open.spotify.com/track/2KEZ1NCCy9utpQ8Dg1TTpk\n"
     ]
    }
   ],
   "source": [
    "if user_input_name in hot_songs_x:\n",
    "    print(\"May I suggest the following hot song:\")\n",
    "    print(random.choice(hot_songs))\n",
    "                 \n",
    "else:\n",
    "    \n",
    "    try:\n",
    "        cluster = kmeans.predict(X_prep_less)\n",
    "        narrowed_down = database_songs[(database_songs['clusters'] == cluster[0])]\n",
    "        suggestion_list = narrowed_down['id'].tolist()\n",
    "        selection = random.choice(suggestion_list)\n",
    "        suggestion = database_songs[(database_songs['id']==selection)]\n",
    "        output = suggestion[[\"name\", \"artist\",\"url\"]]\n",
    "        print(\"May I suggest the following song:\")\n",
    "        for col_name in output.columns: \n",
    "            print(col_name+':', output[col_name]. value_counts(). idxmax())\n",
    "        \n",
    "    except:\n",
    "        print(\"no recommendation\")  "
   ]
  },
  {
   "cell_type": "code",
   "execution_count": 97,
   "id": "10491bca",
   "metadata": {},
   "outputs": [],
   "source": [
    "# cluster = kmeans.predict(X_prep_less)\n",
    "# cluster"
   ]
  }
 ],
 "metadata": {
  "kernelspec": {
   "display_name": "Python 3",
   "language": "python",
   "name": "python3"
  },
  "language_info": {
   "codemirror_mode": {
    "name": "ipython",
    "version": 3
   },
   "file_extension": ".py",
   "mimetype": "text/x-python",
   "name": "python",
   "nbconvert_exporter": "python",
   "pygments_lexer": "ipython3",
   "version": "3.8.8"
  }
 },
 "nbformat": 4,
 "nbformat_minor": 5
}
